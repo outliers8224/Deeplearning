{
  "nbformat": 4,
  "nbformat_minor": 0,
  "metadata": {
    "colab": {
      "provenance": [],
      "toc_visible": true,
      "authorship_tag": "ABX9TyN/qecrHADQ5WNl3x+AGUdx",
      "include_colab_link": true
    },
    "kernelspec": {
      "name": "python3",
      "display_name": "Python 3"
    },
    "language_info": {
      "name": "python"
    }
  },
  "cells": [
    {
      "cell_type": "markdown",
      "metadata": {
        "id": "view-in-github",
        "colab_type": "text"
      },
      "source": [
        "<a href=\"https://colab.research.google.com/github/outliers8224/Deeplearning/blob/main/Activatin_function.ipynb\" target=\"_parent\"><img src=\"https://colab.research.google.com/assets/colab-badge.svg\" alt=\"Open In Colab\"/></a>"
      ]
    },
    {
      "cell_type": "markdown",
      "source": [
        "#Explain all the activation function  in Colab file  and share same code with explanation in the colab file.*italicised text*"
      ],
      "metadata": {
        "id": "0NeayWnD69y2"
      }
    },
    {
      "cell_type": "code",
      "execution_count": null,
      "metadata": {
        "id": "fRkxiRjF1fnf"
      },
      "outputs": [],
      "source": [
        "import tensorflow as tf\n",
        "import numpy as np"
      ]
    },
    {
      "cell_type": "code",
      "source": [
        "x = np.array([-2,-1,0,2,3])"
      ],
      "metadata": {
        "id": "fGn-j1ww3Rg_"
      },
      "execution_count": null,
      "outputs": []
    },
    {
      "cell_type": "markdown",
      "source": [
        "**Sigmoid Activation Function**: Sigmoid function squashes the input values between 0 and 1. It is commonly used in the output layer of binary classification problems.\n"
      ],
      "metadata": {
        "id": "83QWyS5X63sn"
      }
    },
    {
      "cell_type": "code",
      "source": [
        "def sigmoid(x):\n",
        "  return 1/(1 + np.exp(-x))"
      ],
      "metadata": {
        "id": "_SQeupGR3cC3"
      },
      "execution_count": null,
      "outputs": []
    },
    {
      "cell_type": "code",
      "source": [
        "print(\"Sigmoid:\", sigmoid(x))"
      ],
      "metadata": {
        "colab": {
          "base_uri": "https://localhost:8080/"
        },
        "id": "1eGqp7Q_31yt",
        "outputId": "775a92d9-9814-42d5-8e38-9286049d88e6"
      },
      "execution_count": null,
      "outputs": [
        {
          "output_type": "stream",
          "name": "stdout",
          "text": [
            "Sigmoid: [0.11920292 0.26894142 0.5        0.88079708 0.95257413]\n"
          ]
        }
      ]
    },
    {
      "cell_type": "markdown",
      "source": [
        "**ReLU (Rectified Linear Unit)**: ReLU function returns 0 for negative inputs and the input itself for positive inputs. It is widely used in hidden layers due to its simplicity and effectiveness in mitigating the vanishing gradient problem."
      ],
      "metadata": {
        "id": "G7mE_hhs4EBI"
      }
    },
    {
      "cell_type": "code",
      "source": [
        "def relu(x):\n",
        "    return np.maximum(0, x)"
      ],
      "metadata": {
        "id": "NgCWFTlc4DMq"
      },
      "execution_count": null,
      "outputs": []
    },
    {
      "cell_type": "code",
      "source": [
        "print(\"ReLU:\", relu(x))"
      ],
      "metadata": {
        "colab": {
          "base_uri": "https://localhost:8080/"
        },
        "id": "CK1jlmpg4IyI",
        "outputId": "3cdb8a01-4def-4c1b-c01a-239bd898acda"
      },
      "execution_count": null,
      "outputs": [
        {
          "output_type": "stream",
          "name": "stdout",
          "text": [
            "ReLU: [0 0 0 2 3]\n"
          ]
        }
      ]
    },
    {
      "cell_type": "markdown",
      "source": [
        "**Tanh (Hyperbolic Tangent)**: Tanh function squashes the input values between -1 and 1. It is often used in hidden layers of neural networks"
      ],
      "metadata": {
        "id": "uI2zxIFW6vC0"
      }
    },
    {
      "cell_type": "code",
      "source": [
        "def tanh(x):\n",
        "    return np.tanh(x)"
      ],
      "metadata": {
        "id": "GneJWxx14MQG"
      },
      "execution_count": null,
      "outputs": []
    },
    {
      "cell_type": "code",
      "source": [
        "print(\"Tanh:\", tanh(x))"
      ],
      "metadata": {
        "colab": {
          "base_uri": "https://localhost:8080/"
        },
        "id": "1VE4zTpW4UKt",
        "outputId": "12e8b8c1-1c6b-44b2-a0f0-ba96a1c6077f"
      },
      "execution_count": null,
      "outputs": [
        {
          "output_type": "stream",
          "name": "stdout",
          "text": [
            "Tanh: [-0.96402758 -0.76159416  0.          0.96402758  0.99505475]\n"
          ]
        }
      ]
    },
    {
      "cell_type": "markdown",
      "source": [
        "**Leaky ReLU**: Leaky ReLU is an improved version of ReLU where a small positive slope is added to the negative part of the input. This helps to address the dying ReLU problem."
      ],
      "metadata": {
        "id": "H8djUbln6rL3"
      }
    },
    {
      "cell_type": "code",
      "source": [
        "def leaky_relu(x, alpha=0.01):\n",
        "  return np.maximum(alpha * x, x)"
      ],
      "metadata": {
        "id": "E78iJPdk4WTF"
      },
      "execution_count": null,
      "outputs": []
    },
    {
      "cell_type": "code",
      "source": [
        "print(\"leaky_ReLU:\", leaky_relu(x))"
      ],
      "metadata": {
        "colab": {
          "base_uri": "https://localhost:8080/"
        },
        "id": "IPA9YptM5UZE",
        "outputId": "f4e163e2-aa9d-4c9e-b7ea-a069abed99c5"
      },
      "execution_count": null,
      "outputs": [
        {
          "output_type": "stream",
          "name": "stdout",
          "text": [
            "leaky_ReLU: [-0.02 -0.01  0.    2.    3.  ]\n"
          ]
        }
      ]
    },
    {
      "cell_type": "markdown",
      "source": [
        "**Softmax**: Softmax function is used in the output layer of multi-class classification problems. It squashes the output scores into probabilities that sum up to 1, making it suitable for classification tasks."
      ],
      "metadata": {
        "id": "i0RXxjLW6DZn"
      }
    },
    {
      "cell_type": "code",
      "source": [
        "d = np.array([[1, 2, 3,4,5],[2, 4, 6,6,10]])\n",
        "def softmax(x):\n",
        "    exp_x = np.exp(x - np.max(x, axis=-1, keepdims=True))\n",
        "    return exp_x / np.sum(exp_x, axis=-1, keepdims=True)"
      ],
      "metadata": {
        "id": "5DAjsePl50wg"
      },
      "execution_count": null,
      "outputs": []
    },
    {
      "cell_type": "code",
      "source": [
        "print(\"Softmax:\", softmax(d))"
      ],
      "metadata": {
        "colab": {
          "base_uri": "https://localhost:8080/"
        },
        "id": "tqrW9Ybb6Qu4",
        "outputId": "8add2d73-d869-4503-a4a9-7a203c07af19"
      },
      "execution_count": null,
      "outputs": [
        {
          "output_type": "stream",
          "name": "stdout",
          "text": [
            "Softmax: [[1.16562310e-02 3.16849208e-02 8.61285444e-02 2.34121657e-01\n",
            "  6.36408647e-01]\n",
            " [3.22732294e-04 2.38468702e-03 1.76205862e-02 1.76205862e-02\n",
            "  9.62051408e-01]]\n"
          ]
        }
      ]
    },
    {
      "cell_type": "code",
      "source": [],
      "metadata": {
        "id": "jBaXqKff6Ttk"
      },
      "execution_count": null,
      "outputs": []
    }
  ]
}